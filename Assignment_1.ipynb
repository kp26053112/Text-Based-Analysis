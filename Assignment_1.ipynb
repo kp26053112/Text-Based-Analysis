{
 "cells": [
  {
   "cell_type": "code",
   "execution_count": 4,
   "id": "ba6e0796-e1c7-4ffd-9efa-3323b4272787",
   "metadata": {},
   "outputs": [
    {
     "name": "stdout",
     "output_type": "stream",
     "text": [
      "e\n"
     ]
    }
   ],
   "source": [
    "# String Manipulation \n",
    "a= \"Hello World!\"\n",
    "# Print the character at index 1 of the string 'a'.\n",
    "print(a[1])"
   ]
  },
  {
   "cell_type": "code",
   "execution_count": 6,
   "id": "64654dd2-220c-4b15-a085-6b5e7596ac1d",
   "metadata": {},
   "outputs": [
    {
     "name": "stdout",
     "output_type": "stream",
     "text": [
      "lo \n"
     ]
    }
   ],
   "source": [
    "b = \"Hello  World!\"\n",
    "# Print the substring of 'b' starting from index 3 up to, but not including, index 7.\n",
    "print(b[3:6])"
   ]
  },
  {
   "cell_type": "code",
   "execution_count": 8,
   "id": "6042b52e-2621-4c04-8977-c25df6563e50",
   "metadata": {},
   "outputs": [
    {
     "name": "stdout",
     "output_type": "stream",
     "text": [
      "13\n",
      "HELLO, WORLD!\n",
      "hello, world!\n",
      "Hello, Forld!\n"
     ]
    }
   ],
   "source": [
    "# Example for upper, lower and replace\n",
    "\n",
    "a = \"Hello, World!\"\n",
    "# Print the length of the string 'a'\n",
    "print(len(a))\n",
    "# Convert the string 'a' to uppercase\n",
    "print(a.upper())\n",
    "# Convert the string 'a' to lowercase\n",
    "print(a.lower())\n",
    "# Replace all occurrences of the character 'W' with 'F' in the string 'a'\n",
    "print(a.replace(\"W\", \"F\"))"
   ]
  },
  {
   "cell_type": "code",
   "execution_count": 10,
   "id": "6cf8675c-caa8-41f0-aa0d-7407fe8e507b",
   "metadata": {},
   "outputs": [
    {
     "name": "stdout",
     "output_type": "stream",
     "text": [
      "Hello World\n",
      "text based analysis\n"
     ]
    }
   ],
   "source": [
    "a = \"Hello\"\n",
    "b = \"World\"\n",
    "# Concatenate the strings 'a' and 'b'\n",
    "c = a + \" \" + b\n",
    "# Print the concatenated string 'c'\n",
    "print(c)\n",
    "# Example for lower()\n",
    "t = \"Text Based Analysis\"\n",
    "# Convert the string 't' to lowercase using the lower() method\n",
    "lowercase_text = t.lower()\n",
    "# Print the lowercase version of the string 't'\n",
    "print(lowercase_text)"
   ]
  },
  {
   "cell_type": "code",
   "execution_count": 2,
   "id": "7a940189-b8b0-4538-9f25-7855e506d84f",
   "metadata": {},
   "outputs": [
    {
     "name": "stdout",
     "output_type": "stream",
     "text": [
      "Data science\n",
      "Data Science\n"
     ]
    }
   ],
   "source": [
    "t = \"Data science\"\n",
    "# Remove leading whitespace characters from the string 't'\n",
    "stripped_text=t.lstrip()\n",
    "print(stripped_text)\n",
    "\n",
    "# Reassign the string \"## Data Science\" to the variable 't'\n",
    "t=\"#########Data Science\"\n",
    "# Remove leading '#' characters from the string 't'\n",
    "stripped_text=t.lstrip(\"#\")\n",
    "print(stripped_text)\n"
   ]
  },
  {
   "cell_type": "code",
   "execution_count": 3,
   "id": "d63c6107-11a6-4166-919c-446db354eaa7",
   "metadata": {},
   "outputs": [
    {
     "name": "stdout",
     "output_type": "stream",
     "text": [
      "Text Based\n"
     ]
    }
   ],
   "source": [
    "t = \"Text Based\"\n",
    "# Remove trailing whitespace characters from the string 't'\n",
    "stripped_text=t.rstrip()\n",
    "print(stripped_text)"
   ]
  },
  {
   "cell_type": "code",
   "execution_count": 4,
   "id": "d61b02a8-1b6f-4d6f-98c7-ec7bda6051d5",
   "metadata": {},
   "outputs": [
    {
     "name": "stdout",
     "output_type": "stream",
     "text": [
      "Text Analysis\n"
     ]
    }
   ],
   "source": [
    "t = \"Text Analysis\"\n",
    "# Remove leading and trailing whitespace characters from the string 't'\n",
    "stripped_text=t.strip()\n",
    "print(stripped_text)"
   ]
  },
  {
   "cell_type": "code",
   "execution_count": 17,
   "id": "a2e63eb8-a5f6-4a9d-87de-cd45812d4c5e",
   "metadata": {},
   "outputs": [
    {
     "name": "stdout",
     "output_type": "stream",
     "text": [
      "Text Based Analysis\n"
     ]
    }
   ],
   "source": [
    "t = \"Text Based Analysis\"\n",
    "# Remove leading and trailing '#' characters from the string 't'\n",
    "stripped_text=t.strip(\"#\")\n",
    "print(stripped_text)"
   ]
  },
  {
   "cell_type": "code",
   "execution_count": 5,
   "id": "2b14ed4a-8a43-48f4-8d57-c9cc850606f0",
   "metadata": {},
   "outputs": [
    {
     "name": "stdout",
     "output_type": "stream",
     "text": [
      "False\n"
     ]
    }
   ],
   "source": [
    "# Example for endswith() with different substring\n",
    "result = t.endswith(\"Text\")\n",
    "# Check if the string stored in the variable 't' ends with the substring \"Text\".\n",
    "print(result)"
   ]
  },
  {
   "cell_type": "code",
   "execution_count": 19,
   "id": "7345734b-595e-4a0c-b682-2e588ac91c26",
   "metadata": {},
   "outputs": [
    {
     "name": "stdout",
     "output_type": "stream",
     "text": [
      "5\n",
      "0\n"
     ]
    }
   ],
   "source": [
    "# Example for find()\n",
    "t = \"Text Based Analysis\"\n",
    "# Find the index of the substring \"Based\" in the string 't\n",
    "index = t.find(\"Based\")\n",
    "print(index)\n",
    "\n",
    "# Example for find() with non-existing substring\n",
    "index = t.find(\"\")\n",
    "# Find the index of an empty substring in the string 't'\n",
    "print(index)"
   ]
  },
  {
   "cell_type": "code",
   "execution_count": 7,
   "id": "e92a55b5-44dd-4e88-bc41-1dbbf91a8f5a",
   "metadata": {},
   "outputs": [
    {
     "name": "stdout",
     "output_type": "stream",
     "text": [
      "tBas\n"
     ]
    }
   ],
   "source": [
    "\n",
    "# Original string\n",
    "string = \"TextBased \"\n",
    "# Extract a substring from index 3 to index 7 of the string 'string'\n",
    "# and assign it to the variable 'substring'.\n",
    "substring = string[3:7]\n",
    "print(substring)\n"
   ]
  },
  {
   "cell_type": "code",
   "execution_count": 8,
   "id": "e09617d4-903c-4ff0-ba29-dc915fe90c7e",
   "metadata": {},
   "outputs": [
    {
     "name": "stdout",
     "output_type": "stream",
     "text": [
      "Text, Based, Analysis\n"
     ]
    }
   ],
   "source": [
    "# String Concatenation\n",
    "# Original strings\n",
    "str1 = \"Text\"\n",
    "str2 = \"Based\"\n",
    "str3 = \"Analysis\"\n",
    "# Concatenating strings\n",
    "string = str1 + \", \" + str2 + \", \"+str3\n",
    "print(string)"
   ]
  },
  {
   "cell_type": "code",
   "execution_count": 23,
   "id": "c044ff30-2375-463c-9b94-8abc80349516",
   "metadata": {},
   "outputs": [
    {
     "name": "stdout",
     "output_type": "stream",
     "text": [
      "The word 'Python' occurs 2 times in the string.\n"
     ]
    }
   ],
   "source": [
    "# Define the string\n",
    "string = \"Python is a widely-used programming language. Python is known for its simplicity and versatility.\"\n",
    "# Define the word to count\n",
    "word_to_count = \"Python\"\n",
    "# Count the occurrences of the word in the string\n",
    "count = string.lower().count(word_to_count.lower())\n",
    "# Print the result\n",
    "print(f\"The word '{word_to_count}' occurs {count} times in the string.\")\n"
   ]
  },
  {
   "cell_type": "code",
   "execution_count": 24,
   "id": "7e23d706-d431-4392-8de8-dac6d3d0da9f",
   "metadata": {},
   "outputs": [
    {
     "name": "stdout",
     "output_type": "stream",
     "text": [
      "The substring 'dark' appears 8 times in the string.\n"
     ]
    }
   ],
   "source": [
    "# Define the string\n",
    "string = \"In a dark, dark town, there was a dark, dark street. In the dark, dark street, there was a dark, dark house.\"\n",
    "# Define the substring to count\n",
    "substring = \"dark\"\n",
    "# Count the occurrences of the substring in the string\n",
    "count = string.count(substring)\n",
    "# Print the result\n",
    "print(f\"The substring '{substring}' appears {count} times in the string.\")\n"
   ]
  },
  {
   "cell_type": "code",
   "execution_count": 25,
   "id": "c31a307a-e91e-482d-b2eb-b01347334413",
   "metadata": {},
   "outputs": [
    {
     "name": "stdout",
     "output_type": "stream",
     "text": [
      "['123-456-7890']\n"
     ]
    }
   ],
   "source": [
    "import re\n",
    "\n",
    "# Original string\n",
    "string = \"The phone number is 123-456-7890. Please call at that number.\"\n",
    "# Pattern to match\n",
    "pattern = r\"\\b\\d{3}-\\d{3}-\\d{4}\\b\"  # This pattern matches phone numbers in the format xxx-xxx-xxxx.\n",
    "# Finding matches\n",
    "matches = re.findall(pattern, string)\n",
    "# Print the matches\n",
    "print(matches)\n"
   ]
  },
  {
   "cell_type": "code",
   "execution_count": 26,
   "id": "6ad508fe-731e-4792-9ab9-9c346c129734",
   "metadata": {},
   "outputs": [
    {
     "name": "stdout",
     "output_type": "stream",
     "text": [
      "['example@example.com', 'support@domain.com']\n"
     ]
    }
   ],
   "source": [
    "import re\n",
    "\n",
    "# Original text containing email addresses\n",
    "text = \"Contact us at example@example.com or support@domain.com\"\n",
    "\n",
    "# Pattern to match email addresses\n",
    "pattern = r\"\\b[A-Za-z0-9._%+-]+@[A-Za-z0-9.-]+\\.[A-Z|a-z]{2,}\\b\"\n",
    "\n",
    "# Finding email addresses\n",
    "email_addresses = re.findall(pattern, text)\n",
    "print(email_addresses)\n"
   ]
  },
  {
   "cell_type": "code",
   "execution_count": 27,
   "id": "d72aae4b-dc5f-43da-a93f-4ea4828f8331",
   "metadata": {},
   "outputs": [
    {
     "name": "stdout",
     "output_type": "stream",
     "text": [
      "Found numerical values: ['.99', '', '', '']\n"
     ]
    }
   ],
   "source": [
    "import re\n",
    "\n",
    "# Original text containing numerical values\n",
    "text = \"The price of the product is $50.99. Offer valid till 2024-12-31.\"\n",
    "\n",
    "# Pattern to match numerical values (including decimal numbers and dates)\n",
    "pattern = r\"\\d+(\\.\\d+)?|\\d{4}-\\d{2}-\\d{2}\"\n",
    "\n",
    "# Finding numerical values\n",
    "numerical_values = re.findall(pattern, text)\n",
    "print(\"Found numerical values:\", numerical_values)\n"
   ]
  },
  {
   "cell_type": "code",
   "execution_count": 28,
   "id": "7c9ed189-83fb-4253-ad30-87f7bc1337db",
   "metadata": {},
   "outputs": [
    {
     "name": "stdout",
     "output_type": "stream",
     "text": [
      "The dog sat on the mat.\n"
     ]
    }
   ],
   "source": [
    "import re\n",
    "\n",
    "# Original string\n",
    "string = \"The cat sat on the mat.\"\n",
    "\n",
    "# Pattern to find\n",
    "pattern = r\"\\bcat\\b\"\n",
    "\n",
    "# Replacing substring\n",
    "replaced_string = re.sub(pattern, \"dog\", string)\n",
    "\n",
    "print(replaced_string)\n"
   ]
  },
  {
   "cell_type": "code",
   "execution_count": 1,
   "id": "9b43507a-bd7e-4069-afe0-22f7ae58dbf8",
   "metadata": {},
   "outputs": [
    {
     "name": "stdout",
     "output_type": "stream",
     "text": [
      "There are NUM types of people in the world: those who understand binary and those who don't.\n"
     ]
    }
   ],
   "source": [
    "import re\n",
    "\n",
    "# Original string\n",
    "string = \"There are 10 types of people in the world: those who understand binary and those who don't.\"\n",
    "\n",
    "# Pattern to find digits\n",
    "pattern = r\"\\d+\"\n",
    "\n",
    "# Replacing digits with a fixed string\n",
    "replaced_string = re.sub(pattern, \"NUM\", string)\n",
    "print(replaced_string)\n",
    "\n",
    "\n"
   ]
  },
  {
   "cell_type": "code",
   "execution_count": 31,
   "id": "a7df417d-a018-4a77-86af-4f3766cecade",
   "metadata": {},
   "outputs": [
    {
     "name": "stdout",
     "output_type": "stream",
     "text": [
      "['apple', 'banana', 'cherry', 'date']\n"
     ]
    }
   ],
   "source": [
    "import re\n",
    "\n",
    "# Original string\n",
    "string = \"apple;banana;cherry;date\"\n",
    "\n",
    "# Pattern for splitting using semicolon (;)\n",
    "substrings = re.split(\";\", string)\n",
    "print(substrings)\n"
   ]
  },
  {
   "cell_type": "code",
   "execution_count": null,
   "id": "78e5a6e4-a57a-4be0-9a52-8cc83c0b8355",
   "metadata": {},
   "outputs": [],
   "source": []
  }
 ],
 "metadata": {
  "kernelspec": {
   "display_name": "Python 3 (ipykernel)",
   "language": "python",
   "name": "python3"
  },
  "language_info": {
   "codemirror_mode": {
    "name": "ipython",
    "version": 3
   },
   "file_extension": ".py",
   "mimetype": "text/x-python",
   "name": "python",
   "nbconvert_exporter": "python",
   "pygments_lexer": "ipython3",
   "version": "3.11.5"
  }
 },
 "nbformat": 4,
 "nbformat_minor": 5
}
